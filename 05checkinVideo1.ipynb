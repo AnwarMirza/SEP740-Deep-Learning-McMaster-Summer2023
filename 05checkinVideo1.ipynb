{
  "nbformat": 4,
  "nbformat_minor": 0,
  "metadata": {
    "colab": {
      "provenance": [],
      "include_colab_link": true
    },
    "kernelspec": {
      "name": "python3",
      "display_name": "Python 3"
    },
    "language_info": {
      "name": "python"
    }
  },
  "cells": [
    {
      "cell_type": "markdown",
      "metadata": {
        "id": "view-in-github",
        "colab_type": "text"
      },
      "source": [
        "<a href=\"https://colab.research.google.com/github/AnwarMirza/SEP740-Deep-Learning-McMaster-Summer2023/blob/main/05checkinVideo1.ipynb\" target=\"_parent\"><img src=\"https://colab.research.google.com/assets/colab-badge.svg\" alt=\"Open In Colab\"/></a>"
      ]
    },
    {
      "cell_type": "markdown",
      "source": [
        "# Check-in Video 1: Standard Backpropagation\n",
        "\n",
        "## Steps\n",
        "- Step 1: Load Data and Initialization\n",
        "- Step 2: Feedforward of the signals\n",
        "- Step 3: Backpropagation of Errors\n",
        "- Step 4: Update Weights\n",
        "- Step 5: Convergence Check"
      ],
      "metadata": {
        "id": "JUrz9_XITaON"
      }
    },
    {
      "cell_type": "code",
      "source": [
        "# import necessary libraries\n",
        "import numpy as np\n",
        "from matplotlib import pyplot as plt"
      ],
      "metadata": {
        "id": "pjmYH8Peo_2b"
      },
      "execution_count": null,
      "outputs": []
    },
    {
      "cell_type": "code",
      "source": [
        "# initialize random number generator\n",
        "rng = np.random.default_rng(10)"
      ],
      "metadata": {
        "id": "BTup-sL4pCsm"
      },
      "execution_count": null,
      "outputs": []
    },
    {
      "cell_type": "code",
      "source": [
        "# Helper functions\n",
        "\n",
        "def activationFunc(x):\n",
        "  # bipolar sigmoid\n",
        "  return ((1-np.exp(-x))/(1+np.exp(-x)))\n",
        "\n",
        "def dActivationFunc(fx):\n",
        "  # derivative of the bipolar sigmoid\n",
        "  return (0.5*(1-fx)*(1+fx))\n",
        "\n",
        "def feedforward(x, b1, w1, b2, w2):\n",
        "  # weighted sum of inputs reaching at the hidden units\n",
        "  z1 = b1 + np.dot(w1, x)\n",
        "  # output of the hidden units (applying activation function)\n",
        "  a1 = activationFunc(z1)\n",
        "  da1 = dActivationFunc(a1)\n",
        "\n",
        "  # weighted sum of inputs reaching at the output units\n",
        "  z2 = b2 + np.dot(w2,a1)\n",
        "  # output of the output units (applying activation function)\n",
        "  a2 = activationFunc(z2)\n",
        "  da2 = dActivationFunc(a2)\n",
        "  return (z1, a1, da1, z2, a2, da2)\n",
        "\n",
        "def backprop(learningRate, xtrain, ytrain, b1, w1, b2, w2):\n",
        "\n",
        "  N = ytrain.shape[0]\n",
        "\n",
        "  # feedforward the signal\n",
        "  z1, a1, da1, z2, a2, da2 = feedforward(xtrain, b1, w1, b2, w2)\n",
        "\n",
        "  # calculate error\n",
        "  err = msError(a2, ytrain)\n",
        "\n",
        "  # error at the output layer\n",
        "  dif = a2 - ytrain\n",
        "\n",
        "  # local gradients (deltas) at the output units\n",
        "  deltaOut = dif  * da2\n",
        "  # calculate weights and bias changes\n",
        "  deltaW2 = -learningRate * np.dot(deltaOut,a1.T)/N\n",
        "  deltaB2 = -learningRate * deltaOut/N\n",
        "\n",
        "  # local gradients (deltas) at the hidden units\n",
        "  deltaInHid = np.dot(w2.T, deltaOut)\n",
        "  deltaHid = deltaInHid * da1\n",
        "  # calculate weights and bias changes\n",
        "  deltaW1 = -learningRate * np.dot(deltaHid, xtrain.T)/N\n",
        "  deltaB1 = -learningRate * deltaHid/N\n",
        "\n",
        "  return (deltaB1, deltaW1, deltaB2, deltaW2, err)\n",
        "\n",
        "def msError(yPredicted, yTrue):\n",
        "  diff = yPredicted - yTrue\n",
        "  error = np.dot(diff.T, diff) /(2*yTrue.shape[0])\n",
        "  return (error)"
      ],
      "metadata": {
        "id": "eNN6grYTpGid"
      },
      "execution_count": null,
      "outputs": []
    },
    {
      "cell_type": "code",
      "source": [
        "# load the data\n",
        "samples = np.array([\n",
        "    (0, 1, 2, 3, 4, 5, 6, 7, 8, 9),\n",
        "    (9, 8, 7, 6, 5, 4, 3, 2, 1, 0),\n",
        "    (0, 9, 1, 8, 2, 7, 3, 6, 4, 5),\n",
        "    (4, 5, 6, 3, 2, 7, 1, 8, 0, 9),\n",
        "    (3, 8, 2, 7, 1, 6, 0, 5, 9, 4),\n",
        "    (1, 6, 0, 7, 4, 8, 3, 9, 2, 5),\n",
        "    (2, 1, 3, 0, 4, 9, 5, 8, 6, 7),\n",
        "    (9, 4, 0, 5, 1, 6, 2, 7, 3, 8)\n",
        "    ])\n",
        "targets = np.array([\n",
        "    (-1, -1),\n",
        "    (1, 1),\n",
        "    (-1, 1),\n",
        "    (1, -1),\n",
        "    (1, 1),\n",
        "    (1, -1),\n",
        "    (-1, 1),\n",
        "    (-1, -1)\n",
        "    ])\n",
        "\n",
        "# split the data into training and testing sets\n",
        "# For this case we will use all data as training data\n"
      ],
      "metadata": {
        "id": "kxnnwAt7pLsa"
      },
      "execution_count": null,
      "outputs": []
    },
    {
      "cell_type": "code",
      "source": [
        "\n",
        "# Initialize network parameters\n",
        "learningRate = 0.1\n",
        "maxIterations = 100001\n",
        "epsilon = 0.0001\n",
        "nSamples = samples.shape[0]\n",
        "Ni = 10  # Ni input neurons\n",
        "Nh = 4   # Nh hidden neurons\n",
        "No = 2   # No output neurons\n",
        "\n",
        "# Initialize weights and bias (random numbers between -1 and +1)\n",
        "# x = a + (b-a) * rng.random()\n",
        "b1 = -1 + 2 * rng.random((Nh,1))\n",
        "w1 = -1 + 2 * rng.random((Nh, Ni))\n",
        "b2 = -1 + 2 * rng.random((No,1))\n",
        "w2 = -1 + 2 * rng.random((No, Nh))\n",
        "\n",
        "xaxis = np.zeros((maxIterations,1))\n",
        "errPlot = np.zeros((maxIterations,1))\n"
      ],
      "metadata": {
        "id": "kRpVlAm6pQqV"
      },
      "execution_count": null,
      "outputs": []
    },
    {
      "cell_type": "code",
      "execution_count": null,
      "metadata": {
        "colab": {
          "base_uri": "https://localhost:8080/"
        },
        "id": "NEHXAyJmTZZl",
        "outputId": "f8b760ef-de98-4cd6-c0f1-132ac2f67720"
      },
      "outputs": [
        {
          "output_type": "stream",
          "name": "stdout",
          "text": [
            "Converged with maxError =  [[9.99995696e-05]]\n",
            "itr =  19259  maxError =  [[9.99995696e-05]]  epsilon =  0.0001\n"
          ]
        }
      ],
      "source": [
        "\n",
        "for itr in range(1,maxIterations):\n",
        "  maxError = 0\n",
        "  for iSample in range(0, nSamples):\n",
        "    xtrain = samples[iSample,:].reshape(Ni,1)\n",
        "    ytrain = targets[iSample,:].reshape(No,1)\n",
        "\n",
        "    # backprop()\n",
        "    deltaB1, deltaW1, deltaB2, deltaW2, err = backprop(learningRate, xtrain, ytrain, b1, w1, b2, w2)\n",
        "\n",
        "    if err > maxError:\n",
        "      maxError = err\n",
        "\n",
        "    # Weight change\n",
        "    b1 = b1 + deltaB1\n",
        "    w1 = w1 + deltaW1\n",
        "    b2 = b2 + deltaB2\n",
        "    w2 = w2 + deltaW2\n",
        "\n",
        "\n",
        "  xaxis[itr], errPlot[itr] = itr, maxError\n",
        "  if maxError < epsilon:\n",
        "    print('Converged with maxError = ', maxError)\n",
        "    itrm = itr\n",
        "    break\n",
        "\n",
        "  # print('itr = ', itr, ' maxError = ', maxError)\n",
        "\n",
        "if itr >= maxIterations:\n",
        "  print('Maximum iterations reached!')\n",
        "\n",
        "print('itr = ', itr, ' maxError = ', maxError, ' epsilon = ', epsilon)\n",
        "\n"
      ]
    },
    {
      "cell_type": "code",
      "source": [
        "fig = plt.figure(figsize=(6,6))\n",
        "# plt.plot(errPlot, linewidth=3)\n",
        "# plt.semilogy(xaxis[:itrm], errPlot[:itrm], linewidth=3)\n",
        "plt.loglog(xaxis[:itrm], errPlot[:itrm], linewidth=3)\n",
        "plt.xlabel('Iteration No.', fontsize=18)\n",
        "plt.ylabel('MSE', fontsize=18)\n",
        "plt.grid()\n",
        "plt.show()\n"
      ],
      "metadata": {
        "id": "5O1DrWRJpdQV",
        "colab": {
          "base_uri": "https://localhost:8080/",
          "height": 576
        },
        "outputId": "d756333f-129c-42f1-9771-87710bdf9507"
      },
      "execution_count": null,
      "outputs": [
        {
          "output_type": "display_data",
          "data": {
            "text/plain": [
              "<Figure size 600x600 with 1 Axes>"
            ],
            "image/png": "[encoded data removed]"
          },
          "metadata": {}
        }
      ]
    },
    {
      "cell_type": "code",
      "source": [
        "\n",
        "# Testing\n",
        "iSample = 4 #int(np.round(1 + (8-1)*rng.random()))\n",
        "print('iSample = ', iSample)\n",
        "xtrain = samples[iSample,:].reshape(Ni,1)\n",
        "ytrain = targets[iSample,:].reshape(No,1)\n",
        "# feedforward the signal\n",
        "z1, a1, da1, z2, yPredict, da2 = feedforward(xtrain, b1, w1, b2, w2)\n",
        "print('ytrain = ', ytrain.T)\n",
        "print('yPredict = ', np.round(yPredict).T)"
      ],
      "metadata": {
        "colab": {
          "base_uri": "https://localhost:8080/"
        },
        "id": "nNb6ElrdkQk0",
        "outputId": "96e5cddb-79f2-45c7-8499-d2fc4bb2aa2b"
      },
      "execution_count": null,
      "outputs": [
        {
          "output_type": "stream",
          "name": "stdout",
          "text": [
            "iSample =  4\n",
            "ytrain =  [[1 1]]\n",
            "yPredict =  [[1. 1.]]\n"
          ]
        }
      ]
    }
  ]
}