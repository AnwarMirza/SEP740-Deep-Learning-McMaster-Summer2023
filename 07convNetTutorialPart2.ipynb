{
  "nbformat": 4,
  "nbformat_minor": 0,
  "metadata": {
    "colab": {
      "provenance": [],
      "authorship_tag": "ABX9TyMmoxyw3JRzBjqCjshprU6A",
      "include_colab_link": true
    },
    "kernelspec": {
      "name": "python3",
      "display_name": "Python 3"
    },
    "language_info": {
      "name": "python"
    }
  },
  "cells": [
    {
      "cell_type": "markdown",
      "metadata": {
        "id": "view-in-github",
        "colab_type": "text"
      },
      "source": [
        "<a href=\"https://colab.research.google.com/github/AnwarMirza/SEP740-Deep-Learning-McMaster-Summer2023/blob/main/07convNetTutorialPart2.ipynb\" target=\"_parent\"><img src=\"https://colab.research.google.com/assets/colab-badge.svg\" alt=\"Open In Colab\"/></a>"
      ]
    },
    {
      "cell_type": "markdown",
      "source": [
        "# Hyperparameter Tuning"
      ],
      "metadata": {
        "id": "bWWGRkAlmH9Y"
      }
    },
    {
      "cell_type": "code",
      "execution_count": null,
      "metadata": {
        "id": "5BPPfn93ky39"
      },
      "outputs": [],
      "source": [
        "import tensorflow as tf\n",
        "import numpy as np\n",
        "import matplotlib.pyplot as plt\n",
        "\n",
        "(train_images, train_labels), (test_images, test_labels) = tf.keras.datasets.mnist.load_data()"
      ]
    },
    {
      "cell_type": "code",
      "source": [
        "train_images = np.expand_dims(train_images, -1)\n",
        "test_images = np.expand_dims(test_images, -1)\n",
        "\n",
        "train_images = train_images / 255.0\n",
        "test_images = test_images / 255.0"
      ],
      "metadata": {
        "id": "UKu1RZoHlXnl"
      },
      "execution_count": null,
      "outputs": []
    },
    {
      "cell_type": "code",
      "source": [
        "train_images.shape[1:]"
      ],
      "metadata": {
        "colab": {
          "base_uri": "https://localhost:8080/"
        },
        "id": "h49TgDltm1Ul",
        "outputId": "52e13737-39ae-423f-9f32-9eb2915b1dfe"
      },
      "execution_count": null,
      "outputs": [
        {
          "output_type": "execute_result",
          "data": {
            "text/plain": [
              "(28, 28, 1)"
            ]
          },
          "metadata": {},
          "execution_count": 86
        }
      ]
    },
    {
      "cell_type": "code",
      "source": [
        "# model = tf.keras.models.Sequential([\n",
        "#  tf.keras.layers.BatchNormalization(input_shape=train_images.shape[1:]),\n",
        "#  tf.keras.layers.Conv2D(10, 4, padding='same', activation='relu'),\n",
        "# #  tf.keras.layers.MaxPooling2D(pool_size=(2, 2), strides=(2,2)),\n",
        "# #  tf.keras.layers.Dropout(0.25),\n",
        "\n",
        "#   tf.keras.layers.Flatten(),\n",
        "#   tf.keras.layers.Dense(100),\n",
        "#   tf.keras.layers.Activation('relu'),\n",
        "#   # tf.keras.layers.Dropout(0.5),\n",
        "#   tf.keras.layers.Dense(10),\n",
        "#   tf.keras.layers.Activation('softmax'),\n",
        "# ])"
      ],
      "metadata": {
        "id": "KbnRVh2qmbNy"
      },
      "execution_count": null,
      "outputs": []
    },
    {
      "cell_type": "code",
      "source": [
        "model = tf.keras.models.Sequential()\n",
        "\n",
        "model.add(layers.BatchNormalization(input_shape=train_images.shape[1:]))\n",
        "model.add(layers.Conv2D(10, 4, activation='relu'))\n",
        "\n",
        "model.summary()"
      ],
      "metadata": {
        "colab": {
          "base_uri": "https://localhost:8080/"
        },
        "id": "DpDasCezpf9A",
        "outputId": "945ebf86-ab84-44e2-e95a-c3f412864864"
      },
      "execution_count": null,
      "outputs": [
        {
          "output_type": "stream",
          "name": "stdout",
          "text": [
            "Model: \"sequential_14\"\n",
            "_________________________________________________________________\n",
            " Layer (type)                Output Shape              Param #   \n",
            "=================================================================\n",
            " batch_normalization_13 (Bat  (None, 28, 28, 1)        4         \n",
            " chNormalization)                                                \n",
            "                                                                 \n",
            " conv2d_16 (Conv2D)          (None, 25, 25, 10)        170       \n",
            "                                                                 \n",
            "=================================================================\n",
            "Total params: 174\n",
            "Trainable params: 172\n",
            "Non-trainable params: 2\n",
            "_________________________________________________________________\n"
          ]
        }
      ]
    },
    {
      "cell_type": "code",
      "source": [
        "model.add(layers.Flatten())\n",
        "model.add(layers.Dense(100, activation='relu'))\n",
        "model.add(layers.Dense(10, activation='softmax'))\n",
        "\n",
        "model.summary()"
      ],
      "metadata": {
        "colab": {
          "base_uri": "https://localhost:8080/"
        },
        "id": "CrEfeec1rYCj",
        "outputId": "cd3c453d-d77a-4c19-c81d-81604e43c29e"
      },
      "execution_count": null,
      "outputs": [
        {
          "output_type": "stream",
          "name": "stdout",
          "text": [
            "Model: \"sequential_14\"\n",
            "_________________________________________________________________\n",
            " Layer (type)                Output Shape              Param #   \n",
            "=================================================================\n",
            " batch_normalization_13 (Bat  (None, 28, 28, 1)        4         \n",
            " chNormalization)                                                \n",
            "                                                                 \n",
            " conv2d_16 (Conv2D)          (None, 25, 25, 10)        170       \n",
            "                                                                 \n",
            " flatten_13 (Flatten)        (None, 6250)              0         \n",
            "                                                                 \n",
            " dense_25 (Dense)            (None, 100)               625100    \n",
            "                                                                 \n",
            " dense_26 (Dense)            (None, 10)                1010      \n",
            "                                                                 \n",
            "=================================================================\n",
            "Total params: 626,284\n",
            "Trainable params: 626,282\n",
            "Non-trainable params: 2\n",
            "_________________________________________________________________\n"
          ]
        }
      ]
    },
    {
      "cell_type": "code",
      "source": [
        "model.compile(optimizer=RMSprop(lr=0.001), #optimizer='adam',\n",
        "              loss='sparse_categorical_crossentropy',\n",
        "              metrics=['acc'])"
      ],
      "metadata": {
        "id": "tmPjl8YbmgEe"
      },
      "execution_count": null,
      "outputs": []
    },
    {
      "cell_type": "code",
      "source": [
        "history = model.fit(train_images, train_labels, validation_data=(test_images,test_labels),\n",
        "                    batch_size=50, epochs=15)"
      ],
      "metadata": {
        "colab": {
          "base_uri": "https://localhost:8080/"
        },
        "id": "cZHVXKPPnbDm",
        "outputId": "535f2f7e-b767-401a-f89c-14d3518541e5"
      },
      "execution_count": null,
      "outputs": [
        {
          "output_type": "stream",
          "name": "stdout",
          "text": [
            "Epoch 1/15\n",
            "1200/1200 [==============================] - 38s 30ms/step - loss: 0.1666 - acc: 0.9497 - val_loss: 0.0550 - val_acc: 0.9823\n",
            "Epoch 2/15\n",
            "1200/1200 [==============================] - 37s 30ms/step - loss: 0.0516 - acc: 0.9845 - val_loss: 0.0550 - val_acc: 0.9813\n",
            "Epoch 3/15\n",
            "1200/1200 [==============================] - 40s 33ms/step - loss: 0.0301 - acc: 0.9911 - val_loss: 0.0561 - val_acc: 0.9844\n",
            "Epoch 4/15\n",
            "1200/1200 [==============================] - 38s 32ms/step - loss: 0.0195 - acc: 0.9940 - val_loss: 0.0550 - val_acc: 0.9854\n",
            "Epoch 5/15\n",
            "1200/1200 [==============================] - 37s 31ms/step - loss: 0.0117 - acc: 0.9967 - val_loss: 0.0642 - val_acc: 0.9858\n",
            "Epoch 6/15\n",
            "1200/1200 [==============================] - 38s 32ms/step - loss: 0.0084 - acc: 0.9977 - val_loss: 0.0716 - val_acc: 0.9848\n",
            "Epoch 7/15\n",
            "1200/1200 [==============================] - 39s 33ms/step - loss: 0.0056 - acc: 0.9984 - val_loss: 0.0803 - val_acc: 0.9866\n",
            "Epoch 8/15\n",
            "1200/1200 [==============================] - 37s 31ms/step - loss: 0.0042 - acc: 0.9986 - val_loss: 0.1004 - val_acc: 0.9854\n",
            "Epoch 9/15\n",
            "1200/1200 [==============================] - 36s 30ms/step - loss: 0.0030 - acc: 0.9991 - val_loss: 0.1170 - val_acc: 0.9845\n",
            "Epoch 10/15\n",
            "1200/1200 [==============================] - 39s 32ms/step - loss: 0.0024 - acc: 0.9992 - val_loss: 0.1396 - val_acc: 0.9832\n",
            "Epoch 11/15\n",
            "1200/1200 [==============================] - 37s 31ms/step - loss: 0.0021 - acc: 0.9994 - val_loss: 0.1237 - val_acc: 0.9853\n",
            "Epoch 12/15\n",
            "1200/1200 [==============================] - 38s 31ms/step - loss: 0.0013 - acc: 0.9997 - val_loss: 0.1340 - val_acc: 0.9836\n",
            "Epoch 13/15\n",
            "1200/1200 [==============================] - 37s 31ms/step - loss: 7.7966e-04 - acc: 0.9997 - val_loss: 0.1351 - val_acc: 0.9857\n",
            "Epoch 14/15\n",
            "1200/1200 [==============================] - 36s 30ms/step - loss: 5.5254e-04 - acc: 0.9998 - val_loss: 0.1538 - val_acc: 0.9869\n",
            "Epoch 15/15\n",
            "1200/1200 [==============================] - 38s 32ms/step - loss: 2.5897e-04 - acc: 0.9999 - val_loss: 0.1706 - val_acc: 0.9842\n"
          ]
        }
      ]
    },
    {
      "cell_type": "code",
      "source": [
        "def plot_accuracy(history, miny=None):\n",
        "  acc = history.history['acc']\n",
        "  test_acc = history.history['val_acc']\n",
        "  epochs = range(len(acc))\n",
        "  plt.plot(epochs, acc)\n",
        "  plt.plot(epochs, test_acc)\n",
        "  if miny:\n",
        "    plt.ylim(miny, 1.0)\n",
        "  plt.title('accuracy')\n",
        "  plt.grid()\n",
        "  plt.figure()"
      ],
      "metadata": {
        "id": "QE7vrYvaoWaI"
      },
      "execution_count": null,
      "outputs": []
    },
    {
      "cell_type": "code",
      "source": [
        "plot_accuracy(history, miny=0.95)"
      ],
      "metadata": {
        "colab": {
          "base_uri": "https://localhost:8080/",
          "height": 489
        },
        "id": "BlAsjtRJoYRM",
        "outputId": "bf7a8064-048f-48ec-c409-37cf0c33bada"
      },
      "execution_count": null,
      "outputs": [
        {
          "output_type": "display_data",
          "data": {
            "text/plain": [
              "<Figure size 640x480 with 1 Axes>"
            ],
            "image/png": "[encoded data removed]"
          },
          "metadata": {}
        },
        {
          "output_type": "display_data",
          "data": {
            "text/plain": [
              "<Figure size 640x480 with 0 Axes>"
            ]
          },
          "metadata": {}
        }
      ]
    },
    {
      "cell_type": "markdown",
      "source": [
        "#  Model 2 - Adding a Dropout Layer"
      ],
      "metadata": {
        "id": "S_snPSmNwGZP"
      }
    },
    {
      "cell_type": "code",
      "source": [
        "model2 = tf.keras.models.Sequential()\n",
        "\n",
        "model2.add(layers.BatchNormalization(input_shape=train_images.shape[1:]))\n",
        "model2.add(layers.Conv2D(10, 4, activation='relu'))\n",
        "model2.add(layers.Flatten())\n",
        "model2.add(layers.Dropout(rate=0.5))\n",
        "model2.add(layers.Dense(100, activation='relu'))\n",
        "model2.add(layers.Dense(10, activation='softmax'))\n",
        "\n",
        "model2.summary()"
      ],
      "metadata": {
        "colab": {
          "base_uri": "https://localhost:8080/"
        },
        "id": "PP0jI0HMwINp",
        "outputId": "71cb8b93-9d52-49a9-c7e6-9a07d7db396d"
      },
      "execution_count": null,
      "outputs": [
        {
          "output_type": "stream",
          "name": "stdout",
          "text": [
            "Model: \"sequential_15\"\n",
            "_________________________________________________________________\n",
            " Layer (type)                Output Shape              Param #   \n",
            "=================================================================\n",
            " batch_normalization_14 (Bat  (None, 28, 28, 1)        4         \n",
            " chNormalization)                                                \n",
            "                                                                 \n",
            " conv2d_17 (Conv2D)          (None, 25, 25, 10)        170       \n",
            "                                                                 \n",
            " flatten_14 (Flatten)        (None, 6250)              0         \n",
            "                                                                 \n",
            " dropout_5 (Dropout)         (None, 6250)              0         \n",
            "                                                                 \n",
            " dense_27 (Dense)            (None, 100)               625100    \n",
            "                                                                 \n",
            " dense_28 (Dense)            (None, 10)                1010      \n",
            "                                                                 \n",
            "=================================================================\n",
            "Total params: 626,284\n",
            "Trainable params: 626,282\n",
            "Non-trainable params: 2\n",
            "_________________________________________________________________\n"
          ]
        }
      ]
    },
    {
      "cell_type": "code",
      "source": [
        "model2.compile(optimizer=RMSprop(lr=0.001), #optimizer='adam',\n",
        "              loss='sparse_categorical_crossentropy',\n",
        "              metrics=['acc'])"
      ],
      "metadata": {
        "id": "4Sxqqb-8wO5R"
      },
      "execution_count": null,
      "outputs": []
    },
    {
      "cell_type": "code",
      "source": [
        "history2 = model2.fit(train_images, train_labels, validation_data=(test_images,test_labels),\n",
        "                    batch_size=50, epochs=15)"
      ],
      "metadata": {
        "colab": {
          "base_uri": "https://localhost:8080/"
        },
        "id": "H3c87UTnwSEK",
        "outputId": "6a0ce120-96cf-4671-fe76-3a73b709efa9"
      },
      "execution_count": null,
      "outputs": [
        {
          "output_type": "stream",
          "name": "stdout",
          "text": [
            "Epoch 1/15\n",
            "1200/1200 [==============================] - 49s 40ms/step - loss: 0.1970 - acc: 0.9385 - val_loss: 0.0748 - val_acc: 0.9756\n",
            "Epoch 2/15\n",
            "1200/1200 [==============================] - 45s 38ms/step - loss: 0.0859 - acc: 0.9742 - val_loss: 0.0519 - val_acc: 0.9835\n",
            "Epoch 3/15\n",
            "1200/1200 [==============================] - 43s 36ms/step - loss: 0.0692 - acc: 0.9793 - val_loss: 0.0520 - val_acc: 0.9839\n",
            "Epoch 4/15\n",
            "1200/1200 [==============================] - 44s 37ms/step - loss: 0.0608 - acc: 0.9820 - val_loss: 0.0436 - val_acc: 0.9859\n",
            "Epoch 5/15\n",
            "1200/1200 [==============================] - 42s 35ms/step - loss: 0.0550 - acc: 0.9842 - val_loss: 0.0451 - val_acc: 0.9859\n",
            "Epoch 6/15\n",
            "1200/1200 [==============================] - 42s 35ms/step - loss: 0.0533 - acc: 0.9839 - val_loss: 0.0453 - val_acc: 0.9864\n",
            "Epoch 7/15\n",
            "1200/1200 [==============================] - 43s 36ms/step - loss: 0.0509 - acc: 0.9848 - val_loss: 0.0408 - val_acc: 0.9880\n",
            "Epoch 8/15\n",
            "1200/1200 [==============================] - 45s 37ms/step - loss: 0.0496 - acc: 0.9855 - val_loss: 0.0460 - val_acc: 0.9853\n",
            "Epoch 9/15\n",
            "1200/1200 [==============================] - 43s 36ms/step - loss: 0.0470 - acc: 0.9856 - val_loss: 0.0436 - val_acc: 0.9862\n",
            "Epoch 10/15\n",
            "1200/1200 [==============================] - 43s 36ms/step - loss: 0.0464 - acc: 0.9860 - val_loss: 0.0434 - val_acc: 0.9864\n",
            "Epoch 11/15\n",
            "1200/1200 [==============================] - 44s 37ms/step - loss: 0.0451 - acc: 0.9867 - val_loss: 0.0452 - val_acc: 0.9870\n",
            "Epoch 12/15\n",
            "1200/1200 [==============================] - 46s 38ms/step - loss: 0.0433 - acc: 0.9870 - val_loss: 0.0459 - val_acc: 0.9875\n",
            "Epoch 13/15\n",
            "1200/1200 [==============================] - 44s 37ms/step - loss: 0.0420 - acc: 0.9876 - val_loss: 0.0482 - val_acc: 0.9868\n",
            "Epoch 14/15\n",
            "1200/1200 [==============================] - 46s 38ms/step - loss: 0.0410 - acc: 0.9876 - val_loss: 0.0493 - val_acc: 0.9865\n",
            "Epoch 15/15\n",
            "1200/1200 [==============================] - 46s 38ms/step - loss: 0.0391 - acc: 0.9880 - val_loss: 0.0426 - val_acc: 0.9872\n"
          ]
        }
      ]
    },
    {
      "cell_type": "code",
      "source": [
        "plot_accuracy(history2, miny=0.95)"
      ],
      "metadata": {
        "colab": {
          "base_uri": "https://localhost:8080/",
          "height": 489
        },
        "id": "lXRsGgohwVhg",
        "outputId": "0090688d-f693-41bf-a53f-36f9a0b2e5a0"
      },
      "execution_count": null,
      "outputs": [
        {
          "output_type": "display_data",
          "data": {
            "text/plain": [
              "<Figure size 640x480 with 1 Axes>"
            ],
            "image/png": "[encoded data removed]"
          },
          "metadata": {}
        },
        {
          "output_type": "display_data",
          "data": {
            "text/plain": [
              "<Figure size 640x480 with 0 Axes>"
            ]
          },
          "metadata": {}
        }
      ]
    },
    {
      "cell_type": "markdown",
      "source": [
        "# Model 3 - Increasing the Number of Neurons in the Dense Layer"
      ],
      "metadata": {
        "id": "84HwvclFw-Te"
      }
    },
    {
      "cell_type": "code",
      "source": [
        "model3 = tf.keras.models.Sequential()\n",
        "\n",
        "model3.add(layers.BatchNormalization(input_shape=train_images.shape[1:]))\n",
        "model3.add(layers.Conv2D(10, 4, activation='relu'))\n",
        "model3.add(layers.Flatten())\n",
        "model3.add(layers.Dropout(rate=0.5))\n",
        "model3.add(layers.Dense(200, activation='relu'))\n",
        "model3.add(layers.Dense(10, activation='softmax'))\n",
        "\n",
        "model3.summary()"
      ],
      "metadata": {
        "colab": {
          "base_uri": "https://localhost:8080/"
        },
        "id": "z0EP198exJwC",
        "outputId": "3175d349-7096-454f-cd3e-5415dff45a4a"
      },
      "execution_count": null,
      "outputs": [
        {
          "output_type": "stream",
          "name": "stdout",
          "text": [
            "Model: \"sequential_16\"\n",
            "_________________________________________________________________\n",
            " Layer (type)                Output Shape              Param #   \n",
            "=================================================================\n",
            " batch_normalization_15 (Bat  (None, 28, 28, 1)        4         \n",
            " chNormalization)                                                \n",
            "                                                                 \n",
            " conv2d_18 (Conv2D)          (None, 25, 25, 10)        170       \n",
            "                                                                 \n",
            " flatten_15 (Flatten)        (None, 6250)              0         \n",
            "                                                                 \n",
            " dropout_6 (Dropout)         (None, 6250)              0         \n",
            "                                                                 \n",
            " dense_29 (Dense)            (None, 200)               1250200   \n",
            "                                                                 \n",
            " dense_30 (Dense)            (None, 10)                2010      \n",
            "                                                                 \n",
            "=================================================================\n",
            "Total params: 1,252,384\n",
            "Trainable params: 1,252,382\n",
            "Non-trainable params: 2\n",
            "_________________________________________________________________\n"
          ]
        }
      ]
    },
    {
      "cell_type": "code",
      "source": [
        "model3.compile(optimizer=RMSprop(lr=0.001), #optimizer='adam',\n",
        "              loss='sparse_categorical_crossentropy',\n",
        "              metrics=['acc'])"
      ],
      "metadata": {
        "id": "73T8sj-pxLmi"
      },
      "execution_count": null,
      "outputs": []
    },
    {
      "cell_type": "code",
      "source": [
        "history3 = model3.fit(train_images, train_labels, validation_data=(test_images,test_labels),\n",
        "                    batch_size=50, epochs=15)"
      ],
      "metadata": {
        "colab": {
          "base_uri": "https://localhost:8080/"
        },
        "id": "e4QPFs5CxOSr",
        "outputId": "81a58f03-9b27-4b07-ff5c-0a8a6ecfdcd8"
      },
      "execution_count": null,
      "outputs": [
        {
          "output_type": "stream",
          "name": "stdout",
          "text": [
            "Epoch 1/15\n",
            "1200/1200 [==============================] - 55s 45ms/step - loss: 0.1910 - acc: 0.9416 - val_loss: 0.0648 - val_acc: 0.9791\n",
            "Epoch 2/15\n",
            "1200/1200 [==============================] - 55s 46ms/step - loss: 0.0797 - acc: 0.9752 - val_loss: 0.0624 - val_acc: 0.9793\n",
            "Epoch 3/15\n",
            "1200/1200 [==============================] - 56s 47ms/step - loss: 0.0617 - acc: 0.9816 - val_loss: 0.0496 - val_acc: 0.9848\n",
            "Epoch 4/15\n",
            "1200/1200 [==============================] - 57s 47ms/step - loss: 0.0569 - acc: 0.9833 - val_loss: 0.0429 - val_acc: 0.9867\n",
            "Epoch 5/15\n",
            "1200/1200 [==============================] - 55s 46ms/step - loss: 0.0527 - acc: 0.9847 - val_loss: 0.0532 - val_acc: 0.9849\n",
            "Epoch 6/15\n",
            "1200/1200 [==============================] - 55s 46ms/step - loss: 0.0490 - acc: 0.9858 - val_loss: 0.0518 - val_acc: 0.9851\n",
            "Epoch 7/15\n",
            "1200/1200 [==============================] - 56s 46ms/step - loss: 0.0454 - acc: 0.9869 - val_loss: 0.0389 - val_acc: 0.9882\n",
            "Epoch 8/15\n",
            "1200/1200 [==============================] - 56s 46ms/step - loss: 0.0422 - acc: 0.9876 - val_loss: 0.0393 - val_acc: 0.9880\n",
            "Epoch 9/15\n",
            "1200/1200 [==============================] - 57s 48ms/step - loss: 0.0408 - acc: 0.9877 - val_loss: 0.0423 - val_acc: 0.9874\n",
            "Epoch 10/15\n",
            "1200/1200 [==============================] - 55s 46ms/step - loss: 0.0410 - acc: 0.9880 - val_loss: 0.0424 - val_acc: 0.9860\n",
            "Epoch 11/15\n",
            "1200/1200 [==============================] - 54s 45ms/step - loss: 0.0387 - acc: 0.9885 - val_loss: 0.0644 - val_acc: 0.9844\n",
            "Epoch 12/15\n",
            "1200/1200 [==============================] - 55s 46ms/step - loss: 0.0381 - acc: 0.9892 - val_loss: 0.0409 - val_acc: 0.9875\n",
            "Epoch 13/15\n",
            "1200/1200 [==============================] - 55s 46ms/step - loss: 0.0363 - acc: 0.9886 - val_loss: 0.0443 - val_acc: 0.9865\n",
            "Epoch 14/15\n",
            "1200/1200 [==============================] - 57s 48ms/step - loss: 0.0347 - acc: 0.9897 - val_loss: 0.0391 - val_acc: 0.9878\n",
            "Epoch 15/15\n",
            "1200/1200 [==============================] - 56s 46ms/step - loss: 0.0353 - acc: 0.9891 - val_loss: 0.0384 - val_acc: 0.9883\n"
          ]
        }
      ]
    },
    {
      "cell_type": "code",
      "source": [
        "plot_accuracy(history3, miny=0.95)"
      ],
      "metadata": {
        "colab": {
          "base_uri": "https://localhost:8080/",
          "height": 489
        },
        "id": "bqhMCGo5xQhZ",
        "outputId": "1df2478f-8809-4611-988b-1fa097afc7de"
      },
      "execution_count": null,
      "outputs": [
        {
          "output_type": "display_data",
          "data": {
            "text/plain": [
              "<Figure size 640x480 with 1 Axes>"
            ],
            "image/png": "[encoded data removed]"
          },
          "metadata": {}
        },
        {
          "output_type": "display_data",
          "data": {
            "text/plain": [
              "<Figure size 640x480 with 0 Axes>"
            ]
          },
          "metadata": {}
        }
      ]
    },
    {
      "cell_type": "markdown",
      "source": [
        "# Model 4 - Decreasing the Number of Neurons in the Dense Layer"
      ],
      "metadata": {
        "id": "GVQKJmLExiDT"
      }
    },
    {
      "cell_type": "code",
      "source": [
        "model4 = tf.keras.models.Sequential()\n",
        "\n",
        "model4.add(layers.BatchNormalization(input_shape=train_images.shape[1:]))\n",
        "model4.add(layers.Conv2D(10, 4, activation='relu'))\n",
        "model4.add(layers.Flatten())\n",
        "model4.add(layers.Dropout(rate=0.5))\n",
        "model4.add(layers.Dense(50, activation='relu'))\n",
        "model4.add(layers.Dense(10, activation='softmax'))\n",
        "\n",
        "model4.summary()"
      ],
      "metadata": {
        "colab": {
          "base_uri": "https://localhost:8080/"
        },
        "id": "R5j_gfayxnPW",
        "outputId": "3043f9f5-074b-4490-cf5f-8dceb9b4fd45"
      },
      "execution_count": null,
      "outputs": [
        {
          "output_type": "stream",
          "name": "stdout",
          "text": [
            "Model: \"sequential_17\"\n",
            "_________________________________________________________________\n",
            " Layer (type)                Output Shape              Param #   \n",
            "=================================================================\n",
            " batch_normalization_16 (Bat  (None, 28, 28, 1)        4         \n",
            " chNormalization)                                                \n",
            "                                                                 \n",
            " conv2d_19 (Conv2D)          (None, 25, 25, 10)        170       \n",
            "                                                                 \n",
            " flatten_16 (Flatten)        (None, 6250)              0         \n",
            "                                                                 \n",
            " dropout_7 (Dropout)         (None, 6250)              0         \n",
            "                                                                 \n",
            " dense_31 (Dense)            (None, 50)                312550    \n",
            "                                                                 \n",
            " dense_32 (Dense)            (None, 10)                510       \n",
            "                                                                 \n",
            "=================================================================\n",
            "Total params: 313,234\n",
            "Trainable params: 313,232\n",
            "Non-trainable params: 2\n",
            "_________________________________________________________________\n"
          ]
        }
      ]
    },
    {
      "cell_type": "code",
      "source": [
        "model4.compile(optimizer=RMSprop(lr=0.001), #optimizer='adam',\n",
        "              loss='sparse_categorical_crossentropy',\n",
        "              metrics=['acc'])"
      ],
      "metadata": {
        "id": "RmsGJ7WJxtB5"
      },
      "execution_count": null,
      "outputs": []
    },
    {
      "cell_type": "code",
      "source": [
        "history4 = model4.fit(train_images, train_labels, validation_data=(test_images,test_labels),\n",
        "                    batch_size=50, epochs=15)"
      ],
      "metadata": {
        "colab": {
          "base_uri": "https://localhost:8080/"
        },
        "id": "WGyll0lJxu9o",
        "outputId": "59dab301-1592-40e2-eab1-1632f9f45a96"
      },
      "execution_count": null,
      "outputs": [
        {
          "output_type": "stream",
          "name": "stdout",
          "text": [
            "Epoch 1/15\n",
            "1200/1200 [==============================] - 41s 33ms/step - loss: 0.2251 - acc: 0.9305 - val_loss: 0.0828 - val_acc: 0.9742\n",
            "Epoch 2/15\n",
            "1200/1200 [==============================] - 39s 33ms/step - loss: 0.0984 - acc: 0.9703 - val_loss: 0.0609 - val_acc: 0.9789\n",
            "Epoch 3/15\n",
            "1200/1200 [==============================] - 39s 32ms/step - loss: 0.0777 - acc: 0.9760 - val_loss: 0.0548 - val_acc: 0.9830\n",
            "Epoch 4/15\n",
            "1200/1200 [==============================] - 38s 32ms/step - loss: 0.0672 - acc: 0.9795 - val_loss: 0.0486 - val_acc: 0.9844\n",
            "Epoch 5/15\n",
            "1200/1200 [==============================] - 39s 33ms/step - loss: 0.0620 - acc: 0.9811 - val_loss: 0.0458 - val_acc: 0.9855\n",
            "Epoch 6/15\n",
            "1200/1200 [==============================] - 37s 31ms/step - loss: 0.0568 - acc: 0.9832 - val_loss: 0.0536 - val_acc: 0.9829\n",
            "Epoch 7/15\n",
            "1200/1200 [==============================] - 37s 31ms/step - loss: 0.0563 - acc: 0.9833 - val_loss: 0.0510 - val_acc: 0.9844\n",
            "Epoch 8/15\n",
            "1200/1200 [==============================] - 39s 33ms/step - loss: 0.0522 - acc: 0.9844 - val_loss: 0.0446 - val_acc: 0.9851\n",
            "Epoch 9/15\n",
            "1200/1200 [==============================] - 39s 32ms/step - loss: 0.0518 - acc: 0.9843 - val_loss: 0.0484 - val_acc: 0.9848\n",
            "Epoch 10/15\n",
            "1200/1200 [==============================] - 39s 32ms/step - loss: 0.0508 - acc: 0.9843 - val_loss: 0.0475 - val_acc: 0.9847\n",
            "Epoch 11/15\n",
            "1200/1200 [==============================] - 38s 32ms/step - loss: 0.0470 - acc: 0.9862 - val_loss: 0.0440 - val_acc: 0.9860\n",
            "Epoch 12/15\n",
            "1200/1200 [==============================] - 40s 33ms/step - loss: 0.0465 - acc: 0.9862 - val_loss: 0.0470 - val_acc: 0.9857\n",
            "Epoch 13/15\n",
            "1200/1200 [==============================] - 39s 32ms/step - loss: 0.0443 - acc: 0.9866 - val_loss: 0.0483 - val_acc: 0.9854\n",
            "Epoch 14/15\n",
            "1200/1200 [==============================] - 38s 31ms/step - loss: 0.0436 - acc: 0.9866 - val_loss: 0.0484 - val_acc: 0.9860\n",
            "Epoch 15/15\n",
            "1200/1200 [==============================] - 35s 30ms/step - loss: 0.0435 - acc: 0.9869 - val_loss: 0.0444 - val_acc: 0.9859\n"
          ]
        }
      ]
    },
    {
      "cell_type": "code",
      "source": [
        "plot_accuracy(history4, miny=0.95)"
      ],
      "metadata": {
        "colab": {
          "base_uri": "https://localhost:8080/",
          "height": 489
        },
        "id": "2CCFqigMxwmm",
        "outputId": "20c0dec5-1c55-4ee9-d740-e12dbade6571"
      },
      "execution_count": null,
      "outputs": [
        {
          "output_type": "display_data",
          "data": {
            "text/plain": [
              "<Figure size 640x480 with 1 Axes>"
            ],
            "image/png": "[encoded data removed]"
          },
          "metadata": {}
        },
        {
          "output_type": "display_data",
          "data": {
            "text/plain": [
              "<Figure size 640x480 with 0 Axes>"
            ]
          },
          "metadata": {}
        }
      ]
    },
    {
      "cell_type": "markdown",
      "source": [
        "# Model 5 - Adding More Convolution Layers With Pooling"
      ],
      "metadata": {
        "id": "7ZxokG51x4O4"
      }
    },
    {
      "cell_type": "code",
      "source": [
        "model5 = tf.keras.models.Sequential()\n",
        "\n",
        "model5.add(layers.BatchNormalization(input_shape=train_images.shape[1:]))\n",
        "model5.add(layers.Conv2D(10, 4, activation='relu'))\n",
        "model5.add(layers.MaxPooling2D(2))\n",
        "model5.add(layers.Conv2D(20, 4, activation='relu'))\n",
        "model5.add(layers.Flatten())\n",
        "model5.add(layers.Dropout(rate=0.5))\n",
        "model5.add(layers.Dense(100, activation='relu'))\n",
        "model5.add(layers.Dense(10, activation='softmax'))\n",
        "\n",
        "model5.summary()"
      ],
      "metadata": {
        "colab": {
          "base_uri": "https://localhost:8080/"
        },
        "id": "dTnK3191yCne",
        "outputId": "225c3278-fdf5-4b77-c225-afaae7d748d8"
      },
      "execution_count": null,
      "outputs": [
        {
          "output_type": "stream",
          "name": "stdout",
          "text": [
            "Model: \"sequential_18\"\n",
            "_________________________________________________________________\n",
            " Layer (type)                Output Shape              Param #   \n",
            "=================================================================\n",
            " batch_normalization_17 (Bat  (None, 28, 28, 1)        4         \n",
            " chNormalization)                                                \n",
            "                                                                 \n",
            " conv2d_20 (Conv2D)          (None, 25, 25, 10)        170       \n",
            "                                                                 \n",
            " max_pooling2d_3 (MaxPooling  (None, 12, 12, 10)       0         \n",
            " 2D)                                                             \n",
            "                                                                 \n",
            " conv2d_21 (Conv2D)          (None, 9, 9, 20)          3220      \n",
            "                                                                 \n",
            " flatten_17 (Flatten)        (None, 1620)              0         \n",
            "                                                                 \n",
            " dropout_8 (Dropout)         (None, 1620)              0         \n",
            "                                                                 \n",
            " dense_33 (Dense)            (None, 100)               162100    \n",
            "                                                                 \n",
            " dense_34 (Dense)            (None, 10)                1010      \n",
            "                                                                 \n",
            "=================================================================\n",
            "Total params: 166,504\n",
            "Trainable params: 166,502\n",
            "Non-trainable params: 2\n",
            "_________________________________________________________________\n"
          ]
        }
      ]
    },
    {
      "cell_type": "code",
      "source": [
        "model5.compile(optimizer=RMSprop(lr=0.001), #optimizer='adam',\n",
        "              loss='sparse_categorical_crossentropy',\n",
        "              metrics=['acc'])"
      ],
      "metadata": {
        "id": "2YaiwBNZyoPj"
      },
      "execution_count": null,
      "outputs": []
    },
    {
      "cell_type": "code",
      "source": [
        "history5 = model5.fit(train_images, train_labels, validation_data=(test_images,test_labels),\n",
        "                    batch_size=50, epochs=15)"
      ],
      "metadata": {
        "colab": {
          "base_uri": "https://localhost:8080/"
        },
        "id": "X1FRCar4yExf",
        "outputId": "f6b7e96b-0a4c-479f-c08a-0fc38b100d11"
      },
      "execution_count": null,
      "outputs": [
        {
          "output_type": "stream",
          "name": "stdout",
          "text": [
            "Epoch 1/15\n",
            "1200/1200 [==============================] - 43s 35ms/step - loss: 0.1622 - acc: 0.9502 - val_loss: 0.0438 - val_acc: 0.9863\n",
            "Epoch 2/15\n",
            "1200/1200 [==============================] - 42s 35ms/step - loss: 0.0697 - acc: 0.9784 - val_loss: 0.0348 - val_acc: 0.9889\n",
            "Epoch 3/15\n",
            "1200/1200 [==============================] - 43s 35ms/step - loss: 0.0560 - acc: 0.9831 - val_loss: 0.0381 - val_acc: 0.9870\n",
            "Epoch 4/15\n",
            "1200/1200 [==============================] - 44s 37ms/step - loss: 0.0500 - acc: 0.9847 - val_loss: 0.0317 - val_acc: 0.9906\n",
            "Epoch 5/15\n",
            "1200/1200 [==============================] - 43s 36ms/step - loss: 0.0450 - acc: 0.9863 - val_loss: 0.0290 - val_acc: 0.9904\n",
            "Epoch 6/15\n",
            "1200/1200 [==============================] - 43s 36ms/step - loss: 0.0411 - acc: 0.9873 - val_loss: 0.0309 - val_acc: 0.9899\n",
            "Epoch 7/15\n",
            "1200/1200 [==============================] - 43s 36ms/step - loss: 0.0391 - acc: 0.9887 - val_loss: 0.0303 - val_acc: 0.9897\n",
            "Epoch 8/15\n",
            "1200/1200 [==============================] - 43s 36ms/step - loss: 0.0361 - acc: 0.9890 - val_loss: 0.0354 - val_acc: 0.9899\n",
            "Epoch 9/15\n",
            "1200/1200 [==============================] - 43s 36ms/step - loss: 0.0343 - acc: 0.9894 - val_loss: 0.0325 - val_acc: 0.9901\n",
            "Epoch 10/15\n",
            "1200/1200 [==============================] - 42s 35ms/step - loss: 0.0346 - acc: 0.9894 - val_loss: 0.0265 - val_acc: 0.9920\n",
            "Epoch 11/15\n",
            "1200/1200 [==============================] - 43s 36ms/step - loss: 0.0344 - acc: 0.9899 - val_loss: 0.0252 - val_acc: 0.9915\n",
            "Epoch 12/15\n",
            "1200/1200 [==============================] - 43s 36ms/step - loss: 0.0329 - acc: 0.9898 - val_loss: 0.0271 - val_acc: 0.9909\n",
            "Epoch 13/15\n",
            "1200/1200 [==============================] - 43s 35ms/step - loss: 0.0323 - acc: 0.9899 - val_loss: 0.0297 - val_acc: 0.9898\n",
            "Epoch 14/15\n",
            "1200/1200 [==============================] - 43s 36ms/step - loss: 0.0316 - acc: 0.9906 - val_loss: 0.0279 - val_acc: 0.9917\n",
            "Epoch 15/15\n",
            "1200/1200 [==============================] - 43s 35ms/step - loss: 0.0307 - acc: 0.9906 - val_loss: 0.0290 - val_acc: 0.9911\n"
          ]
        }
      ]
    },
    {
      "cell_type": "code",
      "source": [
        "plot_accuracy(history5, miny=0.95)"
      ],
      "metadata": {
        "colab": {
          "base_uri": "https://localhost:8080/",
          "height": 489
        },
        "id": "MzKJXUDfyGma",
        "outputId": "118c8e7e-7490-47f1-903b-0aa32da21d3e"
      },
      "execution_count": null,
      "outputs": [
        {
          "output_type": "display_data",
          "data": {
            "text/plain": [
              "<Figure size 640x480 with 1 Axes>"
            ],
            "image/png": "[encoded data removed]"
          },
          "metadata": {}
        },
        {
          "output_type": "display_data",
          "data": {
            "text/plain": [
              "<Figure size 640x480 with 0 Axes>"
            ]
          },
          "metadata": {}
        }
      ]
    },
    {
      "cell_type": "markdown",
      "source": [
        "# Almost 100% Accuracy"
      ],
      "metadata": {
        "id": "Nldjdu86yupS"
      }
    },
    {
      "cell_type": "code",
      "source": [
        "model6 = tf.keras.models.Sequential()\n",
        "\n",
        "model6.add(layers.BatchNormalization(input_shape=train_images.shape[1:]))\n",
        "model6.add(layers.Conv2D(16, 4, activation='relu'))\n",
        "model6.add(layers.MaxPooling2D(2))\n",
        "model6.add(layers.Conv2D(32, 4, activation='relu'))\n",
        "model6.add(layers.MaxPooling2D(2))\n",
        "model6.add(layers.Flatten())\n",
        "model6.add(layers.Dropout(rate=0.4))\n",
        "model6.add(layers.Dense(100, activation='relu'))\n",
        "model6.add(layers.Dense(10, activation='softmax'))\n",
        "\n",
        "model6.summary()"
      ],
      "metadata": {
        "colab": {
          "base_uri": "https://localhost:8080/"
        },
        "id": "QvP8z87vy0zC",
        "outputId": "b6e9534f-3a47-478b-d318-264f003fb315"
      },
      "execution_count": null,
      "outputs": [
        {
          "output_type": "stream",
          "name": "stdout",
          "text": [
            "Model: \"sequential_19\"\n",
            "_________________________________________________________________\n",
            " Layer (type)                Output Shape              Param #   \n",
            "=================================================================\n",
            " batch_normalization_18 (Bat  (None, 28, 28, 1)        4         \n",
            " chNormalization)                                                \n",
            "                                                                 \n",
            " conv2d_22 (Conv2D)          (None, 25, 25, 16)        272       \n",
            "                                                                 \n",
            " max_pooling2d_4 (MaxPooling  (None, 12, 12, 16)       0         \n",
            " 2D)                                                             \n",
            "                                                                 \n",
            " conv2d_23 (Conv2D)          (None, 9, 9, 32)          8224      \n",
            "                                                                 \n",
            " max_pooling2d_5 (MaxPooling  (None, 4, 4, 32)         0         \n",
            " 2D)                                                             \n",
            "                                                                 \n",
            " flatten_18 (Flatten)        (None, 512)               0         \n",
            "                                                                 \n",
            " dropout_9 (Dropout)         (None, 512)               0         \n",
            "                                                                 \n",
            " dense_35 (Dense)            (None, 100)               51300     \n",
            "                                                                 \n",
            " dense_36 (Dense)            (None, 10)                1010      \n",
            "                                                                 \n",
            "=================================================================\n",
            "Total params: 60,810\n",
            "Trainable params: 60,808\n",
            "Non-trainable params: 2\n",
            "_________________________________________________________________\n"
          ]
        }
      ]
    },
    {
      "cell_type": "code",
      "source": [
        "model6.compile(optimizer=RMSprop(lr=0.001), #optimizer='adam',\n",
        "              loss='sparse_categorical_crossentropy',\n",
        "              metrics=['acc'])"
      ],
      "metadata": {
        "id": "LYUfhkjVy1TV"
      },
      "execution_count": null,
      "outputs": []
    },
    {
      "cell_type": "code",
      "source": [
        "history6 = model6.fit(train_images, train_labels, validation_data=(test_images,test_labels),\n",
        "                    batch_size=50, epochs=15)"
      ],
      "metadata": {
        "colab": {
          "base_uri": "https://localhost:8080/"
        },
        "id": "52MwDVKxy11c",
        "outputId": "60bacc52-ef32-45fa-b1e7-8cbd49b91423"
      },
      "execution_count": null,
      "outputs": [
        {
          "output_type": "stream",
          "name": "stdout",
          "text": [
            "Epoch 1/15\n",
            "1200/1200 [==============================] - 49s 40ms/step - loss: 0.2068 - acc: 0.9353 - val_loss: 0.0626 - val_acc: 0.9803\n",
            "Epoch 2/15\n",
            "1200/1200 [==============================] - 47s 39ms/step - loss: 0.0837 - acc: 0.9734 - val_loss: 0.0406 - val_acc: 0.9873\n",
            "Epoch 3/15\n",
            "1200/1200 [==============================] - 47s 39ms/step - loss: 0.0648 - acc: 0.9801 - val_loss: 0.0348 - val_acc: 0.9894\n",
            "Epoch 4/15\n",
            "1200/1200 [==============================] - 45s 38ms/step - loss: 0.0581 - acc: 0.9826 - val_loss: 0.0373 - val_acc: 0.9884\n",
            "Epoch 5/15\n",
            "1200/1200 [==============================] - 46s 38ms/step - loss: 0.0506 - acc: 0.9843 - val_loss: 0.0276 - val_acc: 0.9919\n",
            "Epoch 6/15\n",
            "1200/1200 [==============================] - 46s 39ms/step - loss: 0.0468 - acc: 0.9852 - val_loss: 0.0260 - val_acc: 0.9912\n",
            "Epoch 7/15\n",
            "1200/1200 [==============================] - 46s 38ms/step - loss: 0.0428 - acc: 0.9867 - val_loss: 0.0264 - val_acc: 0.9917\n",
            "Epoch 8/15\n",
            "1200/1200 [==============================] - 48s 40ms/step - loss: 0.0418 - acc: 0.9872 - val_loss: 0.0258 - val_acc: 0.9917\n",
            "Epoch 9/15\n",
            "1200/1200 [==============================] - 45s 37ms/step - loss: 0.0394 - acc: 0.9880 - val_loss: 0.0242 - val_acc: 0.9920\n",
            "Epoch 10/15\n",
            "1200/1200 [==============================] - 47s 39ms/step - loss: 0.0370 - acc: 0.9886 - val_loss: 0.0257 - val_acc: 0.9920\n",
            "Epoch 11/15\n",
            "1200/1200 [==============================] - 46s 38ms/step - loss: 0.0367 - acc: 0.9885 - val_loss: 0.0253 - val_acc: 0.9924\n",
            "Epoch 12/15\n",
            "1200/1200 [==============================] - 48s 40ms/step - loss: 0.0359 - acc: 0.9890 - val_loss: 0.0281 - val_acc: 0.9919\n",
            "Epoch 13/15\n",
            "1200/1200 [==============================] - 46s 38ms/step - loss: 0.0352 - acc: 0.9890 - val_loss: 0.0269 - val_acc: 0.9912\n",
            "Epoch 14/15\n",
            "1200/1200 [==============================] - 49s 41ms/step - loss: 0.0343 - acc: 0.9890 - val_loss: 0.0293 - val_acc: 0.9915\n",
            "Epoch 15/15\n",
            "1200/1200 [==============================] - 46s 38ms/step - loss: 0.0336 - acc: 0.9897 - val_loss: 0.0273 - val_acc: 0.9921\n"
          ]
        }
      ]
    },
    {
      "cell_type": "code",
      "source": [
        "plot_accuracy(history6, miny=0.95)"
      ],
      "metadata": {
        "colab": {
          "base_uri": "https://localhost:8080/",
          "height": 489
        },
        "id": "EbX1zGFly2T7",
        "outputId": "623c88c5-ab10-41cd-b2b7-d5dbb1975221"
      },
      "execution_count": null,
      "outputs": [
        {
          "output_type": "display_data",
          "data": {
            "text/plain": [
              "<Figure size 640x480 with 1 Axes>"
            ],
            "image/png": "[encoded data removed]"
          },
          "metadata": {}
        },
        {
          "output_type": "display_data",
          "data": {
            "text/plain": [
              "<Figure size 640x480 with 0 Axes>"
            ]
          },
          "metadata": {}
        }
      ]
    }
  ]
}